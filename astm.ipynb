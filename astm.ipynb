{
  "cells": [
    {
      "cell_type": "code",
      "execution_count": 3,
      "metadata": {
        "id": "_1NSY4UC8ViJ"
      },
      "outputs": [],
      "source": [
        "import os\n",
        "\n",
        "import torch\n",
        "import torch.nn as nn\n",
        "import torch.optim as optim\n",
        "import torch.nn.functional as F\n",
        "from torch.utils.data import Dataset, DataLoader, random_split\n",
        "\n",
        "import torchaudio\n",
        "import torchaudio.transforms as transforms\n",
        "\n",
        "import matplotlib.pyplot as plt\n",
        "\n",
        "from sklearn.metrics import accuracy_score\n",
        "\n",
        "import numpy as np"
      ]
    },
    {
      "cell_type": "markdown",
      "metadata": {
        "id": "hS12wwXRBvCD"
      },
      "source": [
        "# Датасет"
      ]
    },
    {
      "cell_type": "code",
      "execution_count": 4,
      "metadata": {
        "id": "PBIhBQ_Z9jxH"
      },
      "outputs": [],
      "source": [
        "class AudioSpectrogramDataset(Dataset):\n",
        "    def __init__(self, root_dir, transform=None, spectrogram_size=(128, 256)):\n",
        "        self.root_dir = root_dir\n",
        "        self.transform = transform\n",
        "        self.spectrogram_size = spectrogram_size\n",
        "\n",
        "        self.audio_files = []\n",
        "        self.labels = []\n",
        "\n",
        "        self.emotion_map = {\n",
        "            'angry': 0,\n",
        "            'sad': 1,\n",
        "            'happy': 2,\n",
        "            'surprise': 3,\n",
        "            'disgust': 4,\n",
        "            'fear': 5,\n",
        "            'neutral': 6\n",
        "        }\n",
        "\n",
        "        for emotion in self.emotion_map.keys():\n",
        "            emotion_dir = os.path.join(root_dir, emotion)\n",
        "            if os.path.isdir(emotion_dir):\n",
        "                for file_name in os.listdir(emotion_dir):\n",
        "                    if file_name.endswith('.wav'):\n",
        "                        self.audio_files.append(os.path.join(emotion_dir, file_name))\n",
        "                        self.labels.append(self.emotion_map[emotion])\n",
        "\n",
        "    def __len__(self):\n",
        "        return len(self.audio_files)\n",
        "\n",
        "    def __getitem__(self, idx):\n",
        "        if torch.is_tensor(idx):\n",
        "            idx = idx.tolist()\n",
        "\n",
        "        audio_file = self.audio_files[idx]\n",
        "        waveform, sample_rate = torchaudio.load(audio_file)\n",
        "\n",
        "        # Convert to mono if stereo\n",
        "        if waveform.size(0) > 1:\n",
        "            waveform = waveform.mean(dim=0, keepdim=True)\n",
        "\n",
        "        # Create spectrogram\n",
        "        spectrogram_transform = transforms.MelSpectrogram(n_fft=1024, hop_length=512)\n",
        "        spectrogram = spectrogram_transform(waveform)\n",
        "\n",
        "        # Resize the spectrogram to the desired size\n",
        "        spectrogram = self._resize_spectrogram(spectrogram)\n",
        "\n",
        "        if self.transform:\n",
        "            spectrogram = self.transform(spectrogram)\n",
        "\n",
        "        # # Ensure spectrogram has 4D shape: (batch_size, channels, height, width)\n",
        "        # if spectrogram.ndimension() == 3:\n",
        "        #     spectrogram = spectrogram.unsqueeze(0)  # Add channel dimension if necessary\n",
        "\n",
        "        label = self.labels[idx]\n",
        "        sample = {'spectrogram': spectrogram, 'label': label}\n",
        "\n",
        "        return sample\n",
        "\n",
        "    def _resize_spectrogram(self, spectrogram):\n",
        "        \"\"\"\n",
        "        Resize the spectrogram to the desired size by padding or trimming.\n",
        "        \"\"\"\n",
        "        # Convert spectrogram to numpy array\n",
        "        spec_np = spectrogram.numpy()\n",
        "\n",
        "        # Get current size\n",
        "        c, h, w = spec_np.shape\n",
        "\n",
        "        # Calculate padding\n",
        "        pad_h = max(0, self.spectrogram_size[0] - h)\n",
        "        pad_w = max(0, self.spectrogram_size[1] - w)\n",
        "        trim_h = max(0, h - self.spectrogram_size[0])\n",
        "        trim_w = max(0, w - self.spectrogram_size[1])\n",
        "\n",
        "        # Trim the spectrogram if needed\n",
        "        if trim_h > 0 or trim_w > 0:\n",
        "            spec_np = spec_np[:, :self.spectrogram_size[0], :self.spectrogram_size[1]]\n",
        "\n",
        "        # Pad the spectrogram if needed\n",
        "        if pad_h > 0 or pad_w > 0:\n",
        "            spec_np = np.pad(spec_np, ((0, 0), (0, pad_h), (0, pad_w)), mode='constant', constant_values=0)\n",
        "\n",
        "        return torch.tensor(spec_np, dtype=torch.float32)"
      ]
    },
    {
      "cell_type": "code",
      "execution_count": 5,
      "metadata": {
        "id": "k_qS8za2LsaF"
      },
      "outputs": [],
      "source": [
        "root_dir = '/content/drive/MyDrive/astm/audios'\n",
        "dataset = AudioSpectrogramDataset(root_dir=root_dir, spectrogram_size=(128, 256))\n",
        "\n",
        "train_size = int(0.8 * len(dataset))\n",
        "test_size = len(dataset) - train_size\n",
        "train_dataset, test_dataset = random_split(dataset, [train_size, test_size])\n",
        "\n",
        "train_loader = DataLoader(train_dataset, batch_size=4, shuffle=True)\n",
        "test_loader = DataLoader(test_dataset, batch_size=4, shuffle=False)"
      ]
    },
    {
      "cell_type": "markdown",
      "metadata": {
        "id": "NROl-bC49d_O"
      },
      "source": [
        "# Модель"
      ]
    },
    {
      "cell_type": "code",
      "execution_count": 6,
      "metadata": {
        "id": "GtMblyqq82tV"
      },
      "outputs": [],
      "source": [
        "class EmotionRecognitionModel(nn.Module):\n",
        "    def __init__(self):\n",
        "        super(EmotionRecognitionModel, self).__init__()\n",
        "\n",
        "        self.conv1 = nn.Conv2d(in_channels=1, out_channels=16, kernel_size=3, stride=1, padding=1)\n",
        "        self.conv2 = nn.Conv2d(in_channels=16, out_channels=32, kernel_size=3, stride=1, padding=1)\n",
        "        self.conv3 = nn.Conv2d(in_channels=32, out_channels=64, kernel_size=3, stride=1, padding=1)\n",
        "\n",
        "        self.pool = nn.MaxPool2d(kernel_size=2, stride=2, padding=0)\n",
        "        self.avg_pool = nn.AvgPool2d(kernel_size=2, stride=2, padding=0)\n",
        "\n",
        "        self.dropout = nn.Dropout(p=0.5)\n",
        "\n",
        "        # self.fc1 = nn.Linear(64 * 32 * 64, 128)\n",
        "        self.fc1 = nn.Linear(64 * 16 * 32, 128)\n",
        "        self.fc2 = nn.Linear(128, 7)\n",
        "\n",
        "    def forward(self, x):\n",
        "        x = self.pool(F.relu(self.conv1(x)))\n",
        "        x = self.pool(F.relu(self.conv2(x)))\n",
        "        x = self.pool(F.relu(self.conv3(x)))\n",
        "\n",
        "        x = x.view(-1, self.num_flat_features(x))\n",
        "\n",
        "        x = self.dropout(x)\n",
        "\n",
        "        x = F.relu(self.fc1(x))\n",
        "        x = self.fc2(x)\n",
        "\n",
        "        return x\n",
        "\n",
        "    def num_flat_features(self, x):\n",
        "        size = x.size()[1:]\n",
        "        num_features = 1\n",
        "        for s in size:\n",
        "            num_features *= s\n",
        "        return num_features\n",
        "\n",
        "model = EmotionRecognitionModel()\n"
      ]
    },
    {
      "cell_type": "markdown",
      "metadata": {
        "id": "QhFHyMVsAX_v"
      },
      "source": [
        "# Обучение"
      ]
    },
    {
      "cell_type": "code",
      "execution_count": 7,
      "metadata": {
        "colab": {
          "base_uri": "https://localhost:8080/"
        },
        "id": "hrxYksiqLPoM",
        "outputId": "43e145f1-ed15-4829-a90a-ffc2ca52795f"
      },
      "outputs": [
        {
          "name": "stdout",
          "output_type": "stream",
          "text": [
            "cuda\n"
          ]
        }
      ],
      "source": [
        "device = torch.device('cuda' if torch.cuda.is_available() else 'cpu')\n",
        "print(device)\n",
        "model.to(device)\n",
        "\n",
        "num_epochs = 20\n",
        "patience = 10\n",
        "patience_counter = 0\n",
        "\n",
        "criterion = nn.CrossEntropyLoss()\n",
        "# optimizer = optim.SGD(model.parameters(), lr=0.001)\n",
        "optimizer = optim.Adam(model.parameters(), lr=0.001)"
      ]
    },
    {
      "cell_type": "code",
      "execution_count": 7,
      "metadata": {
        "id": "8AjpKOHTLb9p"
      },
      "outputs": [],
      "source": [
        "def train_model(train_loader, model, criterion, optimizer, num_epochs=10):\n",
        "    model.train()\n",
        "    train_losses = []\n",
        "    test_losses = []\n",
        "    train_accuracies = []\n",
        "    test_accuracies = []\n",
        "\n",
        "    for epoch in range(num_epochs):\n",
        "        running_loss = 0.0\n",
        "        correct_predictions = 0\n",
        "        total_predictions = 0\n",
        "\n",
        "        for batch in train_loader:\n",
        "            spectrograms = batch['spectrogram']\n",
        "            labels = batch['label']\n",
        "\n",
        "            # Move data to device\n",
        "            spectrograms, labels = spectrograms.to(device), labels.to(device)\n",
        "\n",
        "            optimizer.zero_grad()\n",
        "\n",
        "            # Forward pass\n",
        "            outputs = model(spectrograms)\n",
        "\n",
        "            # Calculate loss\n",
        "            loss = criterion(outputs, labels)\n",
        "            running_loss += loss.item()\n",
        "\n",
        "            # Backward pass and optimize\n",
        "            loss.backward()\n",
        "            optimizer.step()\n",
        "\n",
        "            # Calculate accuracy\n",
        "            _, predicted = torch.max(outputs, 1)\n",
        "            correct_predictions += (predicted == labels).sum().item()\n",
        "            total_predictions += labels.size(0)\n",
        "\n",
        "        epoch_loss = running_loss / len(train_loader)\n",
        "        epoch_accuracy = correct_predictions / total_predictions\n",
        "        train_losses.append(epoch_loss)\n",
        "        train_accuracies.append(epoch_accuracy)\n",
        "\n",
        "        print(f'Epoch [{epoch+1}/{num_epochs}], Loss: {epoch_loss:.4f}, Accuracy: {epoch_accuracy:.4f}')\n",
        "\n",
        "        # Evaluate on test data\n",
        "        test_loss, test_accuracy = evaluate_model(test_loader, model, criterion)\n",
        "        test_losses.append(test_loss)\n",
        "        test_accuracies.append(test_accuracy)\n",
        "\n",
        "    return train_losses, test_losses, train_accuracies, test_accuracies"
      ]
    },
    {
      "cell_type": "code",
      "execution_count": 12,
      "metadata": {
        "id": "RotOhENJLf3u"
      },
      "outputs": [],
      "source": [
        "def evaluate_model(loader, model, criterion):\n",
        "    model.eval()\n",
        "    running_loss = 0.0\n",
        "    correct_predictions = 0\n",
        "    total_predictions = 0\n",
        "\n",
        "    with torch.no_grad():\n",
        "        for batch in loader:\n",
        "            spectrograms = batch['spectrogram']\n",
        "            labels = batch['label']\n",
        "\n",
        "            # Move data to device\n",
        "            spectrograms, labels = spectrograms.to(device), labels.to(device)\n",
        "\n",
        "            # Forward pass\n",
        "            outputs = model(spectrograms)\n",
        "\n",
        "            # Calculate loss\n",
        "            loss = criterion(outputs, labels)\n",
        "            running_loss += loss.item()\n",
        "\n",
        "            # Calculate accuracy\n",
        "            _, predicted = torch.max(outputs, 1)\n",
        "            correct_predictions += (predicted == labels).sum().item()\n",
        "            total_predictions += labels.size(0)\n",
        "\n",
        "    avg_loss = running_loss / len(loader)\n",
        "    accuracy = correct_predictions / total_predictions\n",
        "\n",
        "    print(f'Test Loss: {avg_loss:.4f}, Test Accuracy: {100 * correct / total:.4f}%')\n",
        "\n",
        "    return avg_loss, accuracy"
      ]
    },
    {
      "cell_type": "code",
      "execution_count": 13,
      "metadata": {
        "colab": {
          "base_uri": "https://localhost:8080/"
        },
        "id": "eV3RkR6DLgzr",
        "outputId": "e922f674-5200-4584-c3cc-44774f164606"
      },
      "outputs": [
        {
          "name": "stdout",
          "output_type": "stream",
          "text": [
            "Epoch 1/20, Loss: 0.7923\n",
            "Epoch 2/20, Loss: 0.3623\n",
            "Epoch 3/20, Loss: 0.1411\n",
            "Epoch 4/20, Loss: 0.1064\n",
            "Epoch 5/20, Loss: 0.1799\n",
            "Epoch 6/20, Loss: 0.1681\n",
            "Epoch 7/20, Loss: 0.0724\n",
            "Epoch 8/20, Loss: 0.1420\n",
            "Epoch 9/20, Loss: 0.1959\n",
            "Epoch 10/20, Loss: 0.1038\n",
            "Epoch 11/20, Loss: 0.1410\n",
            "Epoch 12/20, Loss: 0.0525\n",
            "Epoch 13/20, Loss: 0.2802\n",
            "Epoch 14/20, Loss: 0.0431\n",
            "Epoch 15/20, Loss: 0.1314\n",
            "Epoch 16/20, Loss: 0.0928\n",
            "Epoch 17/20, Loss: 0.0613\n",
            "Epoch 18/20, Loss: 0.1539\n",
            "Epoch 19/20, Loss: 0.0329\n",
            "Epoch 20/20, Loss: 0.4796\n"
          ]
        }
      ],
      "source": [
        "train_losses, test_losses, train_accuracies, test_accuracies = train_model(train_loader, model, criterion, optimizer, num_epochs=num_epochs)"
      ]
    },
    {
      "cell_type": "code",
      "execution_count": 14,
      "metadata": {
        "colab": {
          "base_uri": "https://localhost:8080/"
        },
        "id": "7P6FmZlRX7HA",
        "outputId": "2577cdf4-841d-42dc-af02-a2ee91af65af"
      },
      "outputs": [
        {
          "name": "stdout",
          "output_type": "stream",
          "text": [
            "Accuracy: 99.64%\n"
          ]
        }
      ],
      "source": [
        "avg_loss, accuracy = evaluate_model(test_loader, model)"
      ]
    },
    {
      "cell_type": "code",
      "execution_count": 9,
      "metadata": {
        "colab": {
          "base_uri": "https://localhost:8080/"
        },
        "id": "BsOfLFGBCXjc",
        "outputId": "04143773-954d-4b7e-f93d-d8cc6c0cfbb9"
      },
      "outputs": [
        {
          "name": "stdout",
          "output_type": "stream",
          "text": [
            "Epoch [1/10], Loss: 0.8184, Accuracy: 0.8469\n",
            "Test Loss: 0.1880, Test Accuracy: 0.9429\n",
            "Epoch [2/10], Loss: 0.4145, Accuracy: 0.9290\n",
            "Test Loss: 0.1024, Test Accuracy: 0.9786\n",
            "Epoch [3/10], Loss: 0.1344, Accuracy: 0.9799\n",
            "Test Loss: 0.0915, Test Accuracy: 0.9732\n",
            "Epoch [4/10], Loss: 0.1666, Accuracy: 0.9688\n",
            "Test Loss: 0.1226, Test Accuracy: 0.9589\n",
            "Epoch [5/10], Loss: 0.0683, Accuracy: 0.9830\n",
            "Test Loss: 0.0174, Test Accuracy: 0.9946\n",
            "Epoch [6/10], Loss: 0.0745, Accuracy: 0.9848\n",
            "Test Loss: 0.0681, Test Accuracy: 0.9964\n",
            "Epoch [7/10], Loss: 0.1592, Accuracy: 0.9808\n",
            "Test Loss: 0.0839, Test Accuracy: 0.9804\n",
            "Epoch [8/10], Loss: 0.1832, Accuracy: 0.9746\n",
            "Test Loss: 0.1147, Test Accuracy: 0.9821\n",
            "Early stopping triggered\n"
          ]
        }
      ],
      "source": [
        "import torch\n",
        "import torch.nn.functional as F\n",
        "from torch.utils.data import DataLoader\n",
        "from torch.optim import Adam\n",
        "import matplotlib.pyplot as plt\n",
        "\n",
        "def evaluate_model(test_loader, model, criterion):\n",
        "    model.eval()\n",
        "    test_loss = 0.0\n",
        "    correct_predictions = 0\n",
        "    total_predictions = 0\n",
        "\n",
        "    with torch.no_grad():\n",
        "        for batch in test_loader:\n",
        "            spectrograms = batch['spectrogram']\n",
        "            labels = batch['label']\n",
        "\n",
        "            spectrograms, labels = spectrograms.to(device), labels.to(device)\n",
        "\n",
        "            outputs = model(spectrograms)\n",
        "            loss = criterion(outputs, labels)\n",
        "\n",
        "            test_loss += loss.item()\n",
        "\n",
        "            _, predicted = torch.max(outputs, 1)\n",
        "            correct_predictions += (predicted == labels).sum().item()\n",
        "            total_predictions += labels.size(0)\n",
        "\n",
        "    test_loss /= len(test_loader)\n",
        "    test_accuracy = correct_predictions / total_predictions\n",
        "\n",
        "    return test_loss, test_accuracy\n",
        "\n",
        "def train_model(train_loader, test_loader, model, criterion, optimizer, num_epochs=10, patience=3):\n",
        "    model.train()\n",
        "    train_losses = []\n",
        "    test_losses = []\n",
        "    train_accuracies = []\n",
        "    test_accuracies = []\n",
        "\n",
        "    best_loss = float('inf')\n",
        "    early_stop_counter = 0\n",
        "\n",
        "    for epoch in range(num_epochs):\n",
        "        running_loss = 0.0\n",
        "        correct_predictions = 0\n",
        "        total_predictions = 0\n",
        "\n",
        "        model.train()\n",
        "\n",
        "        for batch in train_loader:\n",
        "            spectrograms = batch['spectrogram']\n",
        "            labels = batch['label']\n",
        "\n",
        "            spectrograms, labels = spectrograms.to(device), labels.to(device)\n",
        "\n",
        "            optimizer.zero_grad()\n",
        "\n",
        "            outputs = model(spectrograms)\n",
        "\n",
        "            loss = criterion(outputs, labels)\n",
        "            running_loss += loss.item()\n",
        "\n",
        "            loss.backward()\n",
        "            optimizer.step()\n",
        "\n",
        "            _, predicted = torch.max(outputs, 1)\n",
        "            correct_predictions += (predicted == labels).sum().item()\n",
        "            total_predictions += labels.size(0)\n",
        "\n",
        "        epoch_loss = running_loss / len(train_loader)\n",
        "        epoch_accuracy = correct_predictions / total_predictions\n",
        "        train_losses.append(epoch_loss)\n",
        "        train_accuracies.append(epoch_accuracy)\n",
        "\n",
        "        print(f'Epoch [{epoch+1}/{num_epochs}], Loss: {epoch_loss:.4f}, Accuracy: {epoch_accuracy:.4f}')\n",
        "\n",
        "        # Evaluate on test data\n",
        "        test_loss, test_accuracy = evaluate_model(test_loader, model, criterion)\n",
        "        test_losses.append(test_loss)\n",
        "        test_accuracies.append(test_accuracy)\n",
        "\n",
        "        print(f'Test Loss: {test_loss:.4f}, Test Accuracy: {test_accuracy:.4f}')\n",
        "\n",
        "        # Check for early stopping\n",
        "        if test_loss < best_loss:\n",
        "            best_loss = test_loss\n",
        "            early_stop_counter = 0\n",
        "            # Save the model with the best performance\n",
        "            torch.save(model.state_dict(), 'best_model.pth')\n",
        "        else:\n",
        "            early_stop_counter += 1\n",
        "\n",
        "        if early_stop_counter >= patience:\n",
        "            print(\"Early stopping triggered\")\n",
        "            break\n",
        "\n",
        "    return train_losses, test_losses, train_accuracies, test_accuracies\n",
        "\n",
        "# Hyperparameters\n",
        "num_epochs = 10\n",
        "patience = 3\n",
        "learning_rate = 0.001\n",
        "\n",
        "# Define model, criterion, optimizer\n",
        "model = EmotionRecognitionModel().to(device)\n",
        "criterion = torch.nn.CrossEntropyLoss()\n",
        "optimizer = optim.Adam(model.parameters(), lr=learning_rate)\n",
        "\n",
        "train_losses, test_losses, train_accuracies, test_accuracies = train_model(train_loader, test_loader, model, criterion, optimizer, num_epochs=num_epochs, patience=patience)"
      ]
    },
    {
      "cell_type": "markdown",
      "metadata": {
        "id": "g4R7a-3YBjZs"
      },
      "source": [
        "# Графики"
      ]
    },
    {
      "cell_type": "code",
      "execution_count": 13,
      "metadata": {
        "colab": {
          "base_uri": "https://localhost:8080/",
          "height": 427
        },
        "id": "C_lHiGXuBRcu",
        "outputId": "5e7fb3e2-1335-41a4-80c9-f84ce290d2c1"
      },
      "outputs": [
        {
          "data": {
            "text/plain": [
              "<matplotlib.legend.Legend at 0x7c67937aa830>"
            ]
          },
          "execution_count": 13,
          "metadata": {},
          "output_type": "execute_result"
        },
        {
          "data": {
            "image/png": "[encoded data removed]",
            "text/plain": [
              "<Figure size 1200x400 with 1 Axes>"
            ]
          },
          "metadata": {},
          "output_type": "display_data"
        }
      ],
      "source": [
        "plt.figure(figsize=(12, 4))\n",
        "plt.subplot(1, 2, 1)\n",
        "plt.plot(train_losses, label='Train Loss')\n",
        "plt.plot(test_losses, label='Test Loss')\n",
        "plt.xlabel('Epoch')\n",
        "plt.ylabel('Loss')\n",
        "plt.title('Loss over Epochs')\n",
        "plt.legend()"
      ]
    },
    {
      "cell_type": "code",
      "execution_count": 14,
      "metadata": {
        "colab": {
          "base_uri": "https://localhost:8080/",
          "height": 489
        },
        "id": "-2Hh4L5lBTKj",
        "outputId": "74bca862-520b-4b3f-a9b6-b6d08a87590c"
      },
      "outputs": [
        {
          "data": {
            "text/plain": [
              "<matplotlib.legend.Legend at 0x7c67936ea650>"
            ]
          },
          "execution_count": 14,
          "metadata": {},
          "output_type": "execute_result"
        },
        {
          "data": {
            "image/png": "[encoded data removed]",
            "text/plain": [
              "<Figure size 640x480 with 1 Axes>"
            ]
          },
          "metadata": {},
          "output_type": "display_data"
        }
      ],
      "source": [
        "plt.subplot(1, 2, 2)\n",
        "plt.plot(train_accuracies, label='Train Accuracy')\n",
        "plt.plot(test_accuracies, label='Test Accuracy')\n",
        "plt.xlabel('Epoch')\n",
        "plt.ylabel('Accuracy')\n",
        "plt.title('Accuracy over Epochs')\n",
        "plt.legend()"
      ]
    },
    {
      "cell_type": "markdown",
      "metadata": {
        "id": "Yz5NI31xBfJV"
      },
      "source": [
        "# Сохранение"
      ]
    },
    {
      "cell_type": "code",
      "execution_count": 15,
      "metadata": {
        "id": "hXpNnPh_BdJW"
      },
      "outputs": [],
      "source": [
        "model_path = \"emotion_recognition_model.pth\"\n",
        "torch.save(model.state_dict(), model_path)"
      ]
    }
  ],
  "metadata": {
    "accelerator": "GPU",
    "colab": {
      "gpuType": "T4",
      "provenance": []
    },
    "kernelspec": {
      "display_name": "Python 3",
      "name": "python3"
    },
    "language_info": {
      "name": "python",
      "version": "3.12.1"
    }
  },
  "nbformat": 4,
  "nbformat_minor": 0
}
